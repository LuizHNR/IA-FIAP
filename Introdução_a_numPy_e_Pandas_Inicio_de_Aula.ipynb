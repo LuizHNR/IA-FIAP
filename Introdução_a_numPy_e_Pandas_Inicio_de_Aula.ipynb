{
  "nbformat": 4,
  "nbformat_minor": 0,
  "metadata": {
    "colab": {
      "provenance": []
    },
    "kernelspec": {
      "name": "python3",
      "display_name": "Python 3"
    },
    "language_info": {
      "name": "python"
    }
  },
  "cells": [
    {
      "cell_type": "markdown",
      "source": [
        "#Introdução a numPy e Pandas\n",
        "pandas e numpy são bibliotecas essenciais para análise de dados em Python. numpy fornece suporte para arrays eficientes e operações matemáticas, enquanto pandas usa essa base para trabalhar com dados estruturados em tabelas, facilitando a manipulação, análise e limpeza dos dados."
      ],
      "metadata": {
        "id": "24Yl1Jh5Txum"
      }
    },
    {
      "cell_type": "markdown",
      "source": [
        "##Import das Bibliotecas"
      ],
      "metadata": {
        "id": "LiU74UOBTt0g"
      }
    },
    {
      "cell_type": "code",
      "execution_count": null,
      "metadata": {
        "id": "jIvw2gdMPXpE"
      },
      "outputs": [],
      "source": [
        "#Import das bibliotecas\n",
        "import numpy as np\n",
        "import pandas as pd"
      ]
    },
    {
      "cell_type": "markdown",
      "source": [
        "##numPy\n",
        "O numpy é uma biblioteca fundamental para computação numérica em Python. Ela fornece suporte para arrays multidimensionais, que permitem armazenar e manipular grandes volumes de dados de forma eficiente. Além disso, oferece funções matemáticas de alto desempenho para cálculos científicos e análises complexas."
      ],
      "metadata": {
        "id": "N0SClOa-VvzI"
      }
    },
    {
      "cell_type": "markdown",
      "source": [
        "### Criação de um ndarray"
      ],
      "metadata": {
        "id": "YFiDexmoT2vi"
      }
    },
    {
      "cell_type": "markdown",
      "source": [
        "Um ndarray (N-dimensional array) é o principal objeto da biblioteca numpy. Ele é uma estrutura de dados que armazena elementos de forma multidimensional em um array de tamanho fixo, onde todos os elementos devem ser do mesmo tipo (como inteiros, floats, etc.). O ndarray é altamente eficiente para operações matemáticas e computacionais."
      ],
      "metadata": {
        "id": "Hpp8-Ax32PEz"
      }
    },
    {
      "cell_type": "code",
      "source": [
        "#Vamos criar um ndarray simples\n",
        "\n"
      ],
      "metadata": {
        "id": "YYsgWkgzPcoD"
      },
      "execution_count": null,
      "outputs": []
    },
    {
      "cell_type": "markdown",
      "source": [
        "### Operações Matemáticas"
      ],
      "metadata": {
        "id": "bhhNulPWUAq5"
      }
    },
    {
      "cell_type": "code",
      "source": [
        "#Multiplicação do ndarray por 2\n",
        "\n"
      ],
      "metadata": {
        "id": "S5FEoqztUF3P"
      },
      "execution_count": null,
      "outputs": []
    },
    {
      "cell_type": "code",
      "source": [
        "#Subtração do ndarray por 5\n",
        "\n"
      ],
      "metadata": {
        "id": "us-u3CdWUIdD"
      },
      "execution_count": null,
      "outputs": []
    },
    {
      "cell_type": "code",
      "source": [
        "#Multiplicação de dois ndarray\n",
        "\n"
      ],
      "metadata": {
        "id": "c_vfDuqKUKq-"
      },
      "execution_count": null,
      "outputs": []
    },
    {
      "cell_type": "markdown",
      "source": [
        "### Seleção, Indexação e Fatiamento"
      ],
      "metadata": {
        "id": "EmSjeLoZUN_O"
      }
    },
    {
      "cell_type": "code",
      "source": [
        "#Selecionar todos os valores menores do que 3\n",
        "\n"
      ],
      "metadata": {
        "id": "neGQlquCUQ5G"
      },
      "execution_count": null,
      "outputs": []
    },
    {
      "cell_type": "code",
      "source": [
        "#retornar os três primeiro valores do primeiro array\n",
        "\n"
      ],
      "metadata": {
        "id": "VD9BDXCgUP6N"
      },
      "execution_count": null,
      "outputs": []
    },
    {
      "cell_type": "code",
      "source": [
        "#Criar um ndarray de nomes\n",
        "\n"
      ],
      "metadata": {
        "id": "KEWE9xbhRtNr"
      },
      "execution_count": null,
      "outputs": []
    },
    {
      "cell_type": "code",
      "source": [
        "#testar condição de um nome\n",
        "\n"
      ],
      "metadata": {
        "id": "cwcXpqFgR7bn"
      },
      "execution_count": null,
      "outputs": []
    },
    {
      "cell_type": "code",
      "source": [
        "#relacionar a condição do ndarray de nomes com o de valores\n",
        "\n"
      ],
      "metadata": {
        "id": "yEszdyKESHMC"
      },
      "execution_count": null,
      "outputs": []
    },
    {
      "cell_type": "markdown",
      "source": [
        "### Funções Embutidas"
      ],
      "metadata": {
        "id": "61151krdVWHR"
      }
    },
    {
      "cell_type": "code",
      "source": [
        "#Função embutida para somar os valores de um ndarray\n",
        "\n"
      ],
      "metadata": {
        "id": "dpwn_Ps8Vaam"
      },
      "execution_count": null,
      "outputs": []
    },
    {
      "cell_type": "code",
      "source": [
        "#Função embutida para realizar a média dos valores de um ndarray\n",
        "\n"
      ],
      "metadata": {
        "id": "2Sj77UgDVlTC"
      },
      "execution_count": null,
      "outputs": []
    },
    {
      "cell_type": "code",
      "source": [
        "#Função embutida para retornar o valor máximo de um ndarray\n",
        "\n"
      ],
      "metadata": {
        "id": "nlGfSr6kVpwj"
      },
      "execution_count": null,
      "outputs": []
    },
    {
      "cell_type": "markdown",
      "source": [
        "## Pandas\n",
        "Pandas é uma biblioteca de código aberto para análise de dados em Python. Ela é usada principalmente para manipulação, limpeza e análise de dados estruturados, como tabelas (similares às planilhas do Excel). Pandas fornece estruturas de dados eficientes e flexíveis, chamadas de Series (colunas unidimensionais) e DataFrames (tabelas bidimensionais)."
      ],
      "metadata": {
        "id": "4_ZlqtRYWli9"
      }
    },
    {
      "cell_type": "code",
      "source": [
        "#Dataframe nota dos alunos\n",
        "data = {\n",
        "    'Aluno': ['Robb', 'Jon', 'Arya'],\n",
        "    'Matemática': [85, 90, 95],\n",
        "    'História': [88, 92, 80],\n",
        "    'Ciências': [90, 85, 88]\n",
        "}\n",
        "\n",
        "#realizar a leitura de um Dataframe\n",
        "\n",
        "#Exibir os 5 primeiros registros\n",
        "\n"
      ],
      "metadata": {
        "id": "R8AY9q7_WmnV"
      },
      "execution_count": null,
      "outputs": []
    },
    {
      "cell_type": "markdown",
      "source": [
        "Um DataFrame do pandas é uma tabela composta por dados organizados em linhas e colunas, com cada coluna tendo seu próprio tipo de dado. O índice ajuda a identificar e acessar as linhas de forma eficiente."
      ],
      "metadata": {
        "id": "LHugsZV44NNo"
      }
    },
    {
      "cell_type": "markdown",
      "source": [
        "### Operações Matemáticas"
      ],
      "metadata": {
        "id": "Z4wC2Hsryis4"
      }
    },
    {
      "cell_type": "code",
      "source": [
        "#Multiplicação de uma coluna de um Dataframe pandas\n",
        "\n"
      ],
      "metadata": {
        "id": "44ilCv1kylKI"
      },
      "execution_count": null,
      "outputs": []
    },
    {
      "cell_type": "code",
      "source": [
        "#Divisão de uma coluna de um Dataframe pandas\n",
        "\n"
      ],
      "metadata": {
        "id": "UaSfeWIEytoZ"
      },
      "execution_count": null,
      "outputs": []
    },
    {
      "cell_type": "code",
      "source": [
        "#Subtração de uma coluna de um Dataframe pandas\n",
        "\n"
      ],
      "metadata": {
        "id": "YwVFdj1EywqF"
      },
      "execution_count": null,
      "outputs": []
    },
    {
      "cell_type": "markdown",
      "source": [
        "### Seleção"
      ],
      "metadata": {
        "id": "WnN0ouEHy3RC"
      }
    },
    {
      "cell_type": "code",
      "source": [
        "#Selecionar dados de uma coluna\n",
        "\n"
      ],
      "metadata": {
        "id": "oR_zYcIoy4sJ"
      },
      "execution_count": null,
      "outputs": []
    },
    {
      "cell_type": "code",
      "source": [
        "#Selecionar duas colunas\n",
        "\n"
      ],
      "metadata": {
        "id": "Gf8W9ZLIzGQ_"
      },
      "execution_count": null,
      "outputs": []
    },
    {
      "cell_type": "markdown",
      "source": [
        "### Filtros"
      ],
      "metadata": {
        "id": "rFNeuFdPzOxa"
      }
    },
    {
      "cell_type": "markdown",
      "source": [
        "O **iloc** é um método do pandas usado para acessar dados de um DataFrame ou Series com base na posição das linhas e colunas, ou seja, por índices numéricos. O nome \"iloc\" vem de integer location, o que significa que ele utiliza números inteiros para identificar a localização dos dados"
      ],
      "metadata": {
        "id": "5IkekE1G4t1-"
      }
    },
    {
      "cell_type": "code",
      "source": [
        "#Selecione a primeira posição das linhas\n",
        "\n"
      ],
      "metadata": {
        "id": "5MWXOdn6zRsx"
      },
      "execution_count": null,
      "outputs": []
    },
    {
      "cell_type": "code",
      "source": [
        "#Selecione as notas de um Aluno\n",
        "\n"
      ],
      "metadata": {
        "id": "25RQbHoozy4l"
      },
      "execution_count": null,
      "outputs": []
    },
    {
      "cell_type": "markdown",
      "source": [
        "O loc é um método do pandas utilizado para acessar dados em um DataFrame ou Series com base no rótulo das linhas e colunas, ou seja, por nomes e rótulos, ao contrário do iloc que usa posições numéricas."
      ],
      "metadata": {
        "id": "HHD0FW-r5E_y"
      }
    },
    {
      "cell_type": "code",
      "source": [
        "#Selecione as notas de um Aluno com loc\n",
        "\n"
      ],
      "metadata": {
        "id": "atVmT5xDza5J"
      },
      "execution_count": null,
      "outputs": []
    },
    {
      "cell_type": "code",
      "source": [
        "#Alteração de um valor de coluna baseado em uma condição\n",
        "\n"
      ],
      "metadata": {
        "id": "V5cXbYwTzxrY"
      },
      "execution_count": null,
      "outputs": []
    },
    {
      "cell_type": "code",
      "source": [
        "#Visualizar o Dataframe\n",
        "\n"
      ],
      "metadata": {
        "id": "N81G2aOrz41N"
      },
      "execution_count": null,
      "outputs": []
    },
    {
      "cell_type": "markdown",
      "source": [
        "### Funções Embutidas"
      ],
      "metadata": {
        "id": "FnEHnDGm0MX6"
      }
    },
    {
      "cell_type": "code",
      "source": [
        "#Qual a média da turma na matéria de Matemática?\n",
        "\n"
      ],
      "metadata": {
        "id": "zhMXuL401dsm"
      },
      "execution_count": null,
      "outputs": []
    },
    {
      "cell_type": "code",
      "source": [
        "#Qual a média geral do Aluno chamado Robb\n",
        "\n"
      ],
      "metadata": {
        "id": "0LOkYESm0Oxd"
      },
      "execution_count": null,
      "outputs": []
    }
  ]
}