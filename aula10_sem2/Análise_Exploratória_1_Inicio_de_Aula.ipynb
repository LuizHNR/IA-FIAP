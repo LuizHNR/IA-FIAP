{
  "nbformat": 4,
  "nbformat_minor": 0,
  "metadata": {
    "colab": {
      "provenance": []
    },
    "kernelspec": {
      "name": "python3",
      "display_name": "Python 3"
    },
    "language_info": {
      "name": "python"
    }
  },
  "cells": [
    {
      "cell_type": "markdown",
      "source": [
        "## Import das bibliotecas"
      ],
      "metadata": {
        "id": "DBQS0hO_tQAM"
      }
    },
    {
      "cell_type": "code",
      "execution_count": null,
      "metadata": {
        "id": "M0jyzcGgRCAE"
      },
      "outputs": [],
      "source": [
        "#import do pandas\n"
      ]
    },
    {
      "cell_type": "markdown",
      "source": [
        "## Crie um novo dataframe com .csv orders."
      ],
      "metadata": {
        "id": "xCymKGEmuJb0"
      }
    },
    {
      "cell_type": "code",
      "source": [
        "#criar novo dataframe a partir de um .csv\n"
      ],
      "metadata": {
        "id": "TkdOrP3CuFME"
      },
      "execution_count": null,
      "outputs": []
    },
    {
      "cell_type": "markdown",
      "source": [
        "## Quantos registros temos na nossa base?"
      ],
      "metadata": {
        "id": "AWNPm_-mtVeb"
      }
    },
    {
      "cell_type": "code",
      "source": [
        "#quantidade de registros no dataframe\n"
      ],
      "metadata": {
        "id": "MUlX03dlwMnK"
      },
      "execution_count": null,
      "outputs": []
    },
    {
      "cell_type": "markdown",
      "source": [
        "## Há dados faltantes na nossa base?"
      ],
      "metadata": {
        "id": "HdzlPIgRw2gF"
      }
    },
    {
      "cell_type": "code",
      "source": [
        "#informações sobre o dataframe\n"
      ],
      "metadata": {
        "id": "UUryFKU-v3Qq"
      },
      "execution_count": null,
      "outputs": []
    },
    {
      "cell_type": "markdown",
      "source": [
        "## Desde quando temos esse histórico?"
      ],
      "metadata": {
        "id": "DDNQ3lVGyErP"
      }
    },
    {
      "cell_type": "code",
      "source": [
        "#type da coluna de data\n"
      ],
      "metadata": {
        "id": "wHw8ckEEyI9-"
      },
      "execution_count": null,
      "outputs": []
    },
    {
      "cell_type": "code",
      "source": [
        "#min da coluna de data\n"
      ],
      "metadata": {
        "id": "ERfYiQyFz97Z"
      },
      "execution_count": null,
      "outputs": []
    },
    {
      "cell_type": "code",
      "source": [
        "#max da coluna de data\n"
      ],
      "metadata": {
        "id": "2SiBPXhT0BHG"
      },
      "execution_count": null,
      "outputs": []
    },
    {
      "cell_type": "code",
      "source": [
        "#cast da coluna de data para o formato correto\n"
      ],
      "metadata": {
        "id": "WYBZAYij0z34"
      },
      "execution_count": null,
      "outputs": []
    },
    {
      "cell_type": "code",
      "source": [
        "#min da coluna de data\n"
      ],
      "metadata": {
        "id": "oKP1HYEO1c5L"
      },
      "execution_count": null,
      "outputs": []
    },
    {
      "cell_type": "code",
      "source": [
        "#max da coluna de data\n"
      ],
      "metadata": {
        "id": "g-sfEr9H1gXr"
      },
      "execution_count": null,
      "outputs": []
    },
    {
      "cell_type": "markdown",
      "source": [
        "## Quantas lojas atendemos na nossa base?\n"
      ],
      "metadata": {
        "id": "eG9m9yXB2AV-"
      }
    },
    {
      "cell_type": "code",
      "source": [
        "#contagem das lojas únicas\n"
      ],
      "metadata": {
        "id": "Xo-nhYjK2CQX"
      },
      "execution_count": null,
      "outputs": []
    },
    {
      "cell_type": "markdown",
      "source": [
        "## Quais são as principais lojas em quantidade de atendimento?\n"
      ],
      "metadata": {
        "id": "TkV9uG1k3ELu"
      }
    },
    {
      "cell_type": "code",
      "source": [
        "#ranking das maiores lojas por pedidos\n"
      ],
      "metadata": {
        "id": "1btsWJAx3LbR"
      },
      "execution_count": null,
      "outputs": []
    },
    {
      "cell_type": "code",
      "source": [
        "#group by com contagem agregada\n"
      ],
      "metadata": {
        "id": "qgYkkMIE4GNN"
      },
      "execution_count": null,
      "outputs": []
    },
    {
      "cell_type": "markdown",
      "source": [
        "## Qual a distribuição entre os status?"
      ],
      "metadata": {
        "id": "YojnJMjY6LBV"
      }
    },
    {
      "cell_type": "code",
      "source": [
        "#distribuição entre status\n"
      ],
      "metadata": {
        "id": "MQtNhiYg6O1X"
      },
      "execution_count": null,
      "outputs": []
    },
    {
      "cell_type": "code",
      "source": [
        "#distribuição entre status por porcentagem\n"
      ],
      "metadata": {
        "id": "Xv1DTB6j7XmQ"
      },
      "execution_count": null,
      "outputs": []
    },
    {
      "cell_type": "markdown",
      "source": [
        "## Qual o nome das lojas da tabela orders?"
      ],
      "metadata": {
        "id": "wdZNzCRp-A8w"
      }
    },
    {
      "cell_type": "code",
      "source": [
        "#criação de um novo dataframe a partir de stores\n"
      ],
      "metadata": {
        "id": "Lw7DNEcf-kfG"
      },
      "execution_count": null,
      "outputs": []
    },
    {
      "cell_type": "code",
      "source": [
        "#informações sobre o dataframe\n"
      ],
      "metadata": {
        "id": "uyIoIogB_QLM"
      },
      "execution_count": null,
      "outputs": []
    },
    {
      "cell_type": "code",
      "source": [
        "#criação de um novo dataframe a partir de id e name\n"
      ],
      "metadata": {
        "id": "MF4nYKtsAFTc"
      },
      "execution_count": null,
      "outputs": []
    },
    {
      "cell_type": "code",
      "source": [
        "#merge/join com orders\n"
      ],
      "metadata": {
        "id": "BAlFXTfMBznp"
      },
      "execution_count": null,
      "outputs": []
    },
    {
      "cell_type": "code",
      "source": [
        "#análise dos registros\n"
      ],
      "metadata": {
        "id": "3wt5-FNCFTrE"
      },
      "execution_count": null,
      "outputs": []
    },
    {
      "cell_type": "code",
      "source": [
        "#informações sobre o dataframe\n"
      ],
      "metadata": {
        "id": "-LOvupYkFJef"
      },
      "execution_count": null,
      "outputs": []
    },
    {
      "cell_type": "code",
      "source": [
        "#group by com contagem agregada\n"
      ],
      "metadata": {
        "id": "Pn7h5iKjFfSs"
      },
      "execution_count": null,
      "outputs": []
    },
    {
      "cell_type": "code",
      "source": [
        "#cast como string\n"
      ],
      "metadata": {
        "id": "SKGm8OMvGkCj"
      },
      "execution_count": null,
      "outputs": []
    },
    {
      "cell_type": "code",
      "source": [
        "#procura as lojas em stores\n"
      ],
      "metadata": {
        "id": "yGb20HcaHDMR"
      },
      "execution_count": null,
      "outputs": []
    },
    {
      "cell_type": "code",
      "source": [
        "#remove os espaços nas bordas\n"
      ],
      "metadata": {
        "id": "jWclLgdLI39p"
      },
      "execution_count": null,
      "outputs": []
    },
    {
      "cell_type": "code",
      "source": [
        "#procura as lojas em stores\n"
      ],
      "metadata": {
        "id": "H1BKfc6bI_n2"
      },
      "execution_count": null,
      "outputs": []
    },
    {
      "cell_type": "markdown",
      "source": [
        "#Exercícios"
      ],
      "metadata": {
        "id": "gyGhKfgJMgzB"
      }
    },
    {
      "cell_type": "markdown",
      "source": [
        "## 1 - Quais lojas possuem mais valores repedidos em df_stores?"
      ],
      "metadata": {
        "id": "el541rCMLwpW"
      }
    },
    {
      "cell_type": "markdown",
      "source": [
        "## 2 - Quais lojas possuem maior valor de pedidos?"
      ],
      "metadata": {
        "id": "UrJIWZ1_LLNt"
      }
    },
    {
      "cell_type": "markdown",
      "source": [
        "## 3 - Quais lojas tem o maior tempo de produção do pedido?"
      ],
      "metadata": {
        "id": "6Aqh6AW0KzH0"
      }
    },
    {
      "cell_type": "markdown",
      "source": [
        "## 4 - Num cenário de negócio, quais alternativas você recomenda para diminuir o tempo de produção dos pedidos?\n",
        "Pode utilizar o Google, ChatGPT para pesquisar sobre o assunto. Consegue indicar algum artigo ciêntifíco, reposítório, ou análise no Kaggle que já tratou sobre este problema?"
      ],
      "metadata": {
        "id": "7ahgVR7qL_1p"
      }
    },
    {
      "cell_type": "markdown",
      "source": [
        "## 5 - Quais são os principais Shoppings/Cidades em número de Pedidos. Faça o upload do .csv de hubs e realize os joins entre os dataframes de orders, stores e hubs para chegar no resultado."
      ],
      "metadata": {
        "id": "9Spc177WM4In"
      }
    }
  ]
}