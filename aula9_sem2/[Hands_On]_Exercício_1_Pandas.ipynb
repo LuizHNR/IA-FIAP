{
  "nbformat": 4,
  "nbformat_minor": 0,
  "metadata": {
    "colab": {
      "provenance": []
    },
    "kernelspec": {
      "name": "python3",
      "display_name": "Python 3"
    },
    "language_info": {
      "name": "python"
    }
  },
  "cells": [
    {
      "cell_type": "code",
      "execution_count": null,
      "metadata": {
        "id": "ifO9n3es6lZi"
      },
      "outputs": [],
      "source": [
        "import pandas as pd"
      ]
    },
    {
      "cell_type": "markdown",
      "source": [
        "## 1 - Faça a leitura do Dataset exercicio_1.csv"
      ],
      "metadata": {
        "id": "RglY5TWE8nXS"
      }
    },
    {
      "cell_type": "code",
      "source": [
        "#Utilize o parâmetro sep=\";\" para leitura do Dataset\n"
      ],
      "metadata": {
        "id": "n-79YaKT6xLg"
      },
      "execution_count": null,
      "outputs": []
    },
    {
      "cell_type": "markdown",
      "source": [
        "## 2 - Crie uma nova coluna com o nome df[\"margem_lucro\"] com o cálculo: margem_lucro = preco - custo"
      ],
      "metadata": {
        "id": "QcmanOkC816s"
      }
    },
    {
      "cell_type": "code",
      "source": [
        "#Crie a nova coluna no Dataframe\n",
        "\n",
        "#Mostre seu dataset novamente utilizando o .head com a nova coluna\n",
        "\n"
      ],
      "metadata": {
        "id": "Sui9bTw89EWU"
      },
      "execution_count": null,
      "outputs": []
    },
    {
      "cell_type": "markdown",
      "source": [
        "## 3 - Filtre as vendas para uma marca específica. Escolha a marca Lindt e exiba todas as suas vendas."
      ],
      "metadata": {
        "id": "y0oxC4_o9upa"
      }
    },
    {
      "cell_type": "code",
      "source": [],
      "metadata": {
        "id": "ADCSxQeO9y53"
      },
      "execution_count": null,
      "outputs": []
    },
    {
      "cell_type": "markdown",
      "source": [
        "## 4 - Qual a soma de vendas do produto 'Cadbury' ?"
      ],
      "metadata": {
        "id": "truB-RYS-F5m"
      }
    },
    {
      "cell_type": "code",
      "source": [],
      "metadata": {
        "id": "duaWarNo-WxJ"
      },
      "execution_count": null,
      "outputs": []
    },
    {
      "cell_type": "markdown",
      "source": [
        "## 5 - (Extra) Ordene o dataset com a soma da coluna de vendas por produto?\n",
        "Dica: Realizar agrupamento por produto realizando a soma da coluna vendas, por fim ordenar pelo novo valor da soma final.\n"
      ],
      "metadata": {
        "id": "rPTU6YXFHQWG"
      }
    },
    {
      "cell_type": "code",
      "source": [],
      "metadata": {
        "id": "76hKo6LYHa1c"
      },
      "execution_count": null,
      "outputs": []
    }
  ]
}